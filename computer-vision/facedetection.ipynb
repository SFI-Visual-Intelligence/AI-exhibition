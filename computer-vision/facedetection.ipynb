{
 "cells": [
  {
   "cell_type": "markdown",
   "id": "2901a239-a76c-4c78-a7fd-2f362953640b",
   "metadata": {
    "tags": []
   },
   "source": [
    "## Tutorial on face detection with webcam\n",
    "\n",
    "Relevant websites:\n",
    "https://iotdesignpro.com/projects/face-recognition-door-lock-system-using-raspberry-pi\n",
    "https://github.com/mowshon/age-and-gender\n",
    "https://tensorflow-object-detection-api-tutorial.readthedocs.io/en/latest/auto_examples/object_detection_camera.html\n",
    "https://learnopencv.com/training-a-custom-object-detector-with-dlib-making-gesture-controlled-applications/\n",
    "http://dlib.net/ml.html\n",
    "\n",
    "Haar cascades, face and eyes\n",
    "https://towardsdatascience.com/computer-vision-detecting-objects-using-haar-cascade-classifier-4585472829a9\n",
    "\n",
    "Raspberry pi and others:\n",
    "https://qengineering.eu/deep-learning-with-raspberry-pi-and-alternatives.html\n",
    "\n",
    "### Raspberry PI camera\n",
    "you need to run the following code so that opencv can get the image with `VideoCapture`:\n",
    "\n",
    "`sudo modprobe bcm2835-v4l2`\n",
    "\n",
    "See:\n",
    "https://stackoverflow.com/questions/29583533/videocapture-open0-wont-recognize-pi-cam/37530016#37530016\n",
    "\n",
    "Make also sure the interface for (legacy) video is enabled in the raspberry Pi configuration `sudo raspi-config` -> 'Interfacing Options' -> 'Camera'\n"
   ]
  },
  {
   "cell_type": "code",
   "execution_count": null,
   "id": "fb084b7d-75e0-40d5-b157-0b1ab953e195",
   "metadata": {},
   "outputs": [],
   "source": [
    "import cv2\n",
    "#import sys\n",
    "import os\n",
    "import json\n",
    "import numpy as np\n",
    "\n",
    "# pip install numpy\n",
    "# pip install opencv-python\n",
    "# pip install opencv-contrib-python"
   ]
  },
  {
   "cell_type": "code",
   "execution_count": null,
   "id": "585c5616-c17c-4a6b-8efa-7cfc1bf6462c",
   "metadata": {},
   "outputs": [],
   "source": [
    "def test_webcam(mirror=False, width=600, height=600):\n",
    "    \"\"\" Basic webcam display function, to test the webcam\n",
    "    \"\"\"\n",
    "    cam = cv2.VideoCapture(0)\n",
    "    # Check if the webcam is opened correctly\n",
    "    if not cam.isOpened():\n",
    "        raise IOError(\"Cannot open webcam\")\n",
    "    print(\"[INFO] Press esc to quit\")\n",
    "    while True:\n",
    "        ret_val, img = cam.read()\n",
    "        if mirror: \n",
    "            img = cv2.flip(img, 1)\n",
    "        ## display image\n",
    "        try:\n",
    "            cv2.imshow('my webcam', img)\n",
    "            cv2.namedWindow('my webcam',cv2.WINDOW_NORMAL)\n",
    "            cv2.resizeWindow('my webcam', width, height)\n",
    "            if cv2.waitKey(1) == 27: \n",
    "                break  # esc to quit\n",
    "        except:\n",
    "            cam.release()\n",
    "            cv2.destroyAllWindows()\n",
    "            raise ValueError('Problem displaying the video.')\n",
    "    cam.release()\n",
    "    cv2.destroyAllWindows()"
   ]
  },
  {
   "cell_type": "code",
   "execution_count": null,
   "id": "4d8c9577-6fd1-4ac7-832e-d968bfd84cdb",
   "metadata": {},
   "outputs": [],
   "source": [
    "test_webcam()"
   ]
  },
  {
   "cell_type": "markdown",
   "id": "f664a235-06a5-4680-b98e-00a5c9f319f2",
   "metadata": {},
   "source": [
    "Training face recognition taken from: (initially for Raspberry pi)\n",
    "[https://iotdesignpro.com/projects/face-recognition-door-lock-system-using-raspberry-pi](https://iotdesignpro.com/projects/face-recognition-door-lock-system-using-raspberry-pi)\n",
    "\n",
    "There are 3 steps:\n",
    "\n",
    "* Image aquisition, the webcam takes pictures of the face and save them in a data folder\n",
    "* Training on the faces in the dataset\n",
    "* face recognition\n"
   ]
  },
  {
   "cell_type": "markdown",
   "id": "5af2c3a2-35a1-4701-9635-5b6d0085dfdf",
   "metadata": {},
   "source": [
    "## Initialization"
   ]
  },
  {
   "cell_type": "code",
   "execution_count": null,
   "id": "f8ab180d-b226-4e71-a99e-cec9deba68ae",
   "metadata": {},
   "outputs": [],
   "source": [
    "def create_dir(dirName):\n",
    "    if not os.path.exists(dirName):\n",
    "        os.mkdir(dirName)\n",
    "        print(\"Directory \" , dirName ,  \" Created \")\n",
    "    else:    \n",
    "        print(\"Directory \" , dirName ,  \" already exists\")"
   ]
  },
  {
   "cell_type": "code",
   "execution_count": null,
   "id": "8612f8f7-fc81-4c4c-a237-9fe62f7c26f1",
   "metadata": {},
   "outputs": [],
   "source": [
    "# detect the current working directory and print it\n",
    "path = os.getcwd()\n",
    "data_dir = os.path.join(path,\"dataset\")\n",
    "trained_model_dir = os.path.join(path,\"trained_models\")\n",
    "# Create target Directory if don't exist\n",
    "create_dir(data_dir)\n",
    "create_dir(trained_model_dir)\n",
    "# initializing face recognition methods\n",
    "face_detector = cv2.CascadeClassifier(cv2.data.haarcascades + 'haarcascade_frontalface_default.xml')\n",
    "recognizer = cv2.face.LBPHFaceRecognizer_create()\n",
    "model_file = os.path.join(trained_model_dir,'trainer.yml')\n",
    "person_names_file = os.path.join(trained_model_dir,\"persons.json\")\n",
    "confidence_threshold = 10"
   ]
  },
  {
   "cell_type": "code",
   "execution_count": null,
   "id": "8f329b06-e573-404a-886f-2cdbfb7d9836",
   "metadata": {},
   "outputs": [],
   "source": [
    "def get_faces(img):\n",
    "    gray = cv2.cvtColor(img,cv2.COLOR_BGR2GRAY)\n",
    "    #gray = cv2.equalizeHist(gray)\n",
    "    W, H = gray.shape\n",
    "    minW, minH = int(0.1* W), int(0.1* H) # 10% of image size\n",
    "    faces = face_detector.detectMultiScale( \n",
    "        gray,\n",
    "        scaleFactor = 1.2,\n",
    "        minNeighbors = 5,\n",
    "        minSize = (minW, minH),\n",
    "       )\n",
    "    return faces,gray"
   ]
  },
  {
   "cell_type": "markdown",
   "id": "9fc0b227-1e0e-401a-9cc0-14ca148ec9f3",
   "metadata": {},
   "source": [
    "## Image acquisition"
   ]
  },
  {
   "cell_type": "code",
   "execution_count": null,
   "id": "b9842966-3d8c-4030-be58-02fa709ca527",
   "metadata": {},
   "outputs": [],
   "source": [
    "# import cv2\n",
    "\n",
    "cam = cv2.VideoCapture(0)\n",
    "cam.set(3, 640) # set video width\n",
    "cam.set(4, 480) # set video height\n",
    "# For each person, enter a name\n",
    "face_id = input('\\n enter user name end press <return> ==>  ')\n",
    "print(\"\\n [INFO] Initializing face capture. Look the camera and wait ...\")\n",
    "# Initialize individual sampling face count\n",
    "count = 0\n",
    "while(True):\n",
    "    ret, img = cam.read()\n",
    "    img = cv2.flip(img, 1) # mirror\n",
    "    faces, gray = get_faces(img)\n",
    "    for (x,y,w,h) in faces:\n",
    "        cv2.rectangle(img, (x,y), (x+w,y+h), (255,0,0), 2)     \n",
    "        count += 1\n",
    "        # Save the captured image into the datasets folder\n",
    "        data_file = \"dataset/User.\" + str(face_id) + '.' + str(count) + \".jpg\"\n",
    "        print(\"saving file\", data_file)\n",
    "        cv2.imwrite(data_file, gray[y:y+h,x:x+w])\n",
    "    cv2.imshow('image', img)\n",
    "    k = cv2.waitKey(100) & 0xff # Press 'ESC' for exiting video\n",
    "    if k == 27:\n",
    "        break\n",
    "    elif count >= 30: # Take 30 face sample and stop video\n",
    "         break\n",
    "# Do a bit of cleanup\n",
    "print(\"\\n [INFO] Exiting Program and cleanup stuff\")\n",
    "cam.release()\n",
    "cv2.destroyAllWindows()"
   ]
  },
  {
   "cell_type": "markdown",
   "id": "f5dcfddc-542c-44f7-afca-2a999b07f04b",
   "metadata": {},
   "source": [
    "## Training"
   ]
  },
  {
   "cell_type": "code",
   "execution_count": null,
   "id": "738d7cf1-9dba-4e82-b58a-17d522f66d17",
   "metadata": {},
   "outputs": [],
   "source": [
    "#import numpy as np\n",
    "# import os\n",
    "# import cv2\n",
    "\n",
    "# function to get the images and label data\n",
    "def getImagesAndLabels(data_dir):\n",
    "    imagePaths = [os.path.join(data_dir,f) for f in os.listdir(data_dir)]     \n",
    "    faceSamples=[]\n",
    "    ids = []\n",
    "    person_name_dic = {}\n",
    "    id_count = 0\n",
    "    for imagePath in imagePaths:\n",
    "        img = cv2.imread(imagePath, 0) # open in grayscale\n",
    "        img_numpy = np.array(img,'uint8')\n",
    "        person_name = os.path.split(imagePath)[-1].split(\".\")[1]\n",
    "        if person_name in person_name_dic:\n",
    "            person_id = person_name_dic[person_name]\n",
    "        else:\n",
    "            person_id = id_count\n",
    "            person_name_dic[person_name]= person_id\n",
    "            id_count +=1\n",
    "        faces = face_detector.detectMultiScale(img_numpy)\n",
    "        for (x,y,w,h) in faces:\n",
    "            faceSamples.append(img_numpy[y:y+h,x:x+w])\n",
    "            ids.append(person_id)\n",
    "    return faceSamples,ids, person_name_dic\n"
   ]
  },
  {
   "cell_type": "code",
   "execution_count": null,
   "id": "7df03a49-9804-4022-a1ed-931f97764714",
   "metadata": {},
   "outputs": [],
   "source": [
    "#import json\n",
    "\n",
    "print (\"\\n [INFO] Training faces. It will take a few seconds. Wait ...\")\n",
    "faces, ids, person_name_dic = getImagesAndLabels(data_dir)\n",
    "recognizer.train(faces, np.array(ids))\n",
    "# Save the model into trainer/trainer.yml\n",
    "recognizer.write(model_file) # recognizer.save() worked on Mac, on Ubuntu, but not on Pi?\n",
    "# Print the number of faces trained and end program\n",
    "print(\"\\n [INFO] {0} faces trained. Exiting Program\".format(len(np.unique(ids))))\n",
    "# save the name of the persons\n",
    "person_id2name = {value : key for (key, value) in person_name_dic.items()}\n",
    "with open(person_names_file, 'w') as fp:\n",
    "    json.dump(person_id2name, fp,  indent=4)"
   ]
  },
  {
   "cell_type": "markdown",
   "id": "a6213769-43dd-44df-9af6-3c2d65364b6a",
   "metadata": {},
   "source": [
    "## Detection"
   ]
  },
  {
   "cell_type": "code",
   "execution_count": null,
   "id": "03f958da-6ec5-4202-9b7b-345e335840fb",
   "metadata": {},
   "outputs": [],
   "source": [
    "#import cv2\n",
    "#import json\n",
    "\n",
    "recognizer.read(model_file)\n",
    "with open(person_names_file, 'r') as fp:\n",
    "    person_id2name = json.load(fp)\n",
    "font = cv2.FONT_HERSHEY_SIMPLEX\n",
    "\n",
    "# Initialize and start realtime video capture\n",
    "cam = cv2.VideoCapture(0)\n",
    "cam.set(3, 640) # set video width\n",
    "cam.set(4, 480) # set video height\n",
    "\n",
    "while True:\n",
    "    ret, img =cam.read()\n",
    "    img = cv2.flip(img, 1) # mirror\n",
    "    faces,gray = get_faces(img)\n",
    "    for(x,y,w,h) in faces:\n",
    "        cv2.rectangle(img, (x,y), (x+w,y+h), (0,255,0), 2)\n",
    "        person_id, confidence = recognizer.predict(gray[y:y+h,x:x+w])\n",
    "        # Check if confidence is less them 100 ==> \"0\" is perfect match \n",
    "        if ((100 - confidence) > confidence_threshold):\n",
    "            person_name = person_id2name[str(person_id)]\n",
    "            confidence = \"  {0}%\".format(round(100 - confidence))\n",
    "        else:\n",
    "            person_name = \"Unknown\"\n",
    "            confidence = \"  {0}%\".format(round(100 - confidence))\n",
    "        cv2.putText(img, str(person_name), (x+5,y-5), font, 1, (255,255,255), 2)\n",
    "        cv2.putText(img, str(confidence), (x+5,y+h-5), font, 1, (255,255,0), 1)  \n",
    "    cv2.imshow('camera',img)\n",
    "    k = cv2.waitKey(10) & 0xff # Press 'ESC' for exiting video\n",
    "    if k == 27:\n",
    "        break\n",
    "# Do a bit of cleanup\n",
    "print(\"\\n [INFO] Exiting Program and cleanup stuff\")\n",
    "cam.release()\n",
    "cv2.destroyAllWindows()"
   ]
  },
  {
   "cell_type": "code",
   "execution_count": null,
   "id": "f09557ef-c508-4762-b2bc-ade9c452ba90",
   "metadata": {},
   "outputs": [],
   "source": [
    "cam.release()\n",
    "cv2.destroyAllWindows()"
   ]
  },
  {
   "cell_type": "code",
   "execution_count": null,
   "id": "4d750c4c-f938-41ff-a08d-773b63a3fda8",
   "metadata": {},
   "outputs": [],
   "source": []
  }
 ],
 "metadata": {
  "kernelspec": {
   "display_name": "Python 3 (ipykernel)",
   "language": "python",
   "name": "python3"
  },
  "language_info": {
   "codemirror_mode": {
    "name": "ipython",
    "version": 3
   },
   "file_extension": ".py",
   "mimetype": "text/x-python",
   "name": "python",
   "nbconvert_exporter": "python",
   "pygments_lexer": "ipython3",
   "version": "3.9.7"
  }
 },
 "nbformat": 4,
 "nbformat_minor": 5
}

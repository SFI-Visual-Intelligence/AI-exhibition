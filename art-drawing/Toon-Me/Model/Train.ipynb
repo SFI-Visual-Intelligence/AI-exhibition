{
  "nbformat": 4,
  "nbformat_minor": 0,
  "metadata": {
    "colab": {
      "name": "Train.ipynb",
      "provenance": []
    },
    "kernelspec": {
      "name": "python3",
      "display_name": "Python 3"
    }
  },
  "cells": [
    {
      "cell_type": "markdown",
      "metadata": {
        "id": "V_1nUjYIhks1"
      },
      "source": [
        "# **Toon-Me**\r\n"
      ]
    },
    {
      "cell_type": "code",
      "metadata": {
        "id": "8mOG3Ph8hji_"
      },
      "source": [
        "import fastai\r\n",
        "from fastai.vision import *\r\n",
        "from fastai.callbacks import *\r\n",
        "from fastai.vision.gan import *\r\n",
        "from torchvision.models import vgg16_bn\r\n",
        "from fastai.utils.mem import *"
      ],
      "execution_count": null,
      "outputs": []
    },
    {
      "cell_type": "markdown",
      "metadata": {
        "id": "vI3M-s6Mh2Cz"
      },
      "source": [
        "**Path**\r\n"
      ]
    },
    {
      "cell_type": "markdown",
      "metadata": {
        "id": "YbJuATO9lFeq"
      },
      "source": [
        "**Line art and toon photos**"
      ]
    },
    {
      "cell_type": "code",
      "metadata": {
        "id": "9QYvHJMGh4sp"
      },
      "source": [
        "path = Path('/content/gdrive/My Drive/Colourizer')\r\n",
        "path_hr = Path('/content/gdrive/My Drive/Colourizer/split colour')\r\n",
        "path_lr= Path('/content/gdrive/My Drive/Colourizer/split draw')\r\n",
        "path_hr1 = Path('/content/gdrive/My Drive/Colourizer/Colour')\r\n",
        "path_lr1= Path('/content/gdrive/My Drive/Colourizer/Line')"
      ],
      "execution_count": null,
      "outputs": []
    },
    {
      "cell_type": "markdown",
      "metadata": {
        "id": "Imxh8Uz6iVGz"
      },
      "source": [
        "**Architecture**\r\n",
        "\r\n"
      ]
    },
    {
      "cell_type": "markdown",
      "metadata": {
        "id": "vTHNY-5ukeqf"
      },
      "source": [
        "**64px**"
      ]
    },
    {
      "cell_type": "code",
      "metadata": {
        "id": "NIHhsDU5iBBC"
      },
      "source": [
        "bs,size=20,64\r\n",
        "arch = models.resnet34"
      ],
      "execution_count": null,
      "outputs": []
    },
    {
      "cell_type": "markdown",
      "metadata": {
        "id": "vhm3Gd11k8dY"
      },
      "source": [
        "**Portrait photos split by half**"
      ]
    },
    {
      "cell_type": "code",
      "metadata": {
        "id": "ZPY5QKnaiCxD"
      },
      "source": [
        "src = ImageImageList.from_folder(path_lr).split_by_rand_pct(0.2, seed=42)\r\n",
        "def get_data(bs,size):\r\n",
        "    data = (src.label_from_func(lambda x: path_hr/x.name)\r\n",
        "           .transform(get_transforms(max_zoom=2.), size=size, tfm_y=True)\r\n",
        "           .databunch(bs=bs,num_workers = 0).normalize(imagenet_stats, do_y=True))\r\n",
        "\r\n",
        "    data.c = 3\r\n",
        "    return data"
      ],
      "execution_count": null,
      "outputs": []
    },
    {
      "cell_type": "code",
      "metadata": {
        "id": "3c3TuqPWiF13"
      },
      "source": [
        "data = get_data(bs,size)\r\n",
        "data.show_batch(ds_type=DatasetType.Valid, rows=2, figsize=(9,9))"
      ],
      "execution_count": null,
      "outputs": []
    },
    {
      "cell_type": "code",
      "metadata": {
        "id": "f3U3Rz8siJT3"
      },
      "source": [
        "t = data.valid_ds[0][1].data\r\n",
        "t = torch.stack([t,t])"
      ],
      "execution_count": null,
      "outputs": []
    },
    {
      "cell_type": "code",
      "metadata": {
        "id": "rHUOVM4KicVx"
      },
      "source": [
        "def gram_matrix(x):\r\n",
        "    n,c,h,w = x.size()\r\n",
        "    x = x.view(n, c, -1)\r\n",
        "    return (x @ x.transpose(1,2))/(c*h*w)"
      ],
      "execution_count": null,
      "outputs": []
    },
    {
      "cell_type": "code",
      "metadata": {
        "id": "QVgAEVcoieCM"
      },
      "source": [
        "gram_matrix(t)\r\n"
      ],
      "execution_count": null,
      "outputs": []
    },
    {
      "cell_type": "code",
      "metadata": {
        "id": "obfCa5cgif9C"
      },
      "source": [
        "base_loss = F.l1_loss\r\n"
      ],
      "execution_count": null,
      "outputs": []
    },
    {
      "cell_type": "code",
      "metadata": {
        "id": "g_mXAT8tii_H"
      },
      "source": [
        "vgg_m = vgg16_bn(True).features.cuda().eval()\r\n",
        "requires_grad(vgg_m, False)"
      ],
      "execution_count": null,
      "outputs": []
    },
    {
      "cell_type": "code",
      "metadata": {
        "id": "M76TNPrLiku6"
      },
      "source": [
        "blocks = [i-1 for i,o in enumerate(children(vgg_m)) if isinstance(o,nn.MaxPool2d)]\r\n",
        "blocks, [vgg_m[i] for i in blocks]"
      ],
      "execution_count": null,
      "outputs": []
    },
    {
      "cell_type": "markdown",
      "metadata": {
        "id": "YfBC3x2clbcW"
      },
      "source": [
        "**Feature Loss**"
      ]
    },
    {
      "cell_type": "code",
      "metadata": {
        "id": "a1vExzUdilj3"
      },
      "source": [
        "class FeatureLoss(nn.Module):\r\n",
        "    def __init__(self, m_feat, layer_ids, layer_wgts):\r\n",
        "        super().__init__()\r\n",
        "        self.m_feat = m_feat\r\n",
        "        self.loss_features = [self.m_feat[i] for i in layer_ids]\r\n",
        "        self.hooks = hook_outputs(self.loss_features, detach=False)\r\n",
        "        self.wgts = layer_wgts\r\n",
        "        self.metric_names = ['pixel',] + [f'feat_{i}' for i in range(len(layer_ids))\r\n",
        "              ] + [f'gram_{i}' for i in range(len(layer_ids))]\r\n",
        "\r\n",
        "    def make_features(self, x, clone=False):\r\n",
        "        self.m_feat(x)\r\n",
        "        return [(o.clone() if clone else o) for o in self.hooks.stored]\r\n",
        "    \r\n",
        "    def forward(self, input, target):\r\n",
        "        out_feat = self.make_features(target, clone=True)\r\n",
        "        in_feat = self.make_features(input)\r\n",
        "        self.feat_losses = [base_loss(input,target)]\r\n",
        "        self.feat_losses += [base_loss(f_in, f_out)*w\r\n",
        "                             for f_in, f_out, w in zip(in_feat, out_feat, self.wgts)]\r\n",
        "        self.feat_losses += [base_loss(gram_matrix(f_in), gram_matrix(f_out))*w**2 * 5e3\r\n",
        "                             for f_in, f_out, w in zip(in_feat, out_feat, self.wgts)]\r\n",
        "        self.metrics = dict(zip(self.metric_names, self.feat_losses))\r\n",
        "        return sum(self.feat_losses)\r\n",
        "    \r\n",
        "    def __del__(self): self.hooks.remove()"
      ],
      "execution_count": null,
      "outputs": []
    },
    {
      "cell_type": "code",
      "metadata": {
        "id": "e_Lor9ioiojV"
      },
      "source": [
        "feat_loss = FeatureLoss(vgg_m, blocks[2:5], [5,15,2])\r\n"
      ],
      "execution_count": null,
      "outputs": []
    },
    {
      "cell_type": "code",
      "metadata": {
        "id": "53lcHVZSiqNk"
      },
      "source": [
        "wd = 1e-3\r\n",
        "y_range = (-3.,3.)"
      ],
      "execution_count": null,
      "outputs": []
    },
    {
      "cell_type": "code",
      "metadata": {
        "id": "BzeRODpZirwE"
      },
      "source": [
        "def create_gen_learner():\r\n",
        "    return unet_learner(data, arch, wd=wd, loss_func=feat_loss, callback_fns=LossMetrics,\r\n",
        "                     blur=True, norm_type=NormType.Weight)\r\n",
        "gc.collect();"
      ],
      "execution_count": null,
      "outputs": []
    },
    {
      "cell_type": "code",
      "metadata": {
        "id": "XE2Em1YtiteL"
      },
      "source": [
        "learn_gen = create_gen_learner()\r\n"
      ],
      "execution_count": null,
      "outputs": []
    },
    {
      "cell_type": "code",
      "metadata": {
        "id": "A8Cx1_f0ixMT"
      },
      "source": [
        "learn_gen.lr_find()\r\n",
        "learn_gen.recorder.plot(suggestion =True)"
      ],
      "execution_count": null,
      "outputs": []
    },
    {
      "cell_type": "code",
      "metadata": {
        "id": "sgl9kt7bi2Of"
      },
      "source": [
        "lr = 4.79E-04\r\n",
        "epoch = 10\r\n",
        "def do_fit(save_name, lrs=slice(lr), pct_start=0.9):\r\n",
        "    learn_gen.fit_one_cycle(epoch, lrs, pct_start=pct_start,)\r\n",
        "    learn_gen.save(save_name)\r\n",
        "    learn_gen.show_results(rows=1, imgsize=5)"
      ],
      "execution_count": null,
      "outputs": []
    },
    {
      "cell_type": "code",
      "metadata": {
        "id": "fiSYxhhSi4JU"
      },
      "source": [
        "do_fit('da', slice(lr*10))\r\n",
        "#lr*10"
      ],
      "execution_count": null,
      "outputs": []
    },
    {
      "cell_type": "code",
      "metadata": {
        "id": "JNhGBirhi56g"
      },
      "source": [
        "learn_gen.unfreeze()\r\n",
        "learn_gen.lr_find()\r\n",
        "learn_gen.recorder.plot(suggestion =True)"
      ],
      "execution_count": null,
      "outputs": []
    },
    {
      "cell_type": "code",
      "metadata": {
        "id": "vOi1eomYi_pp"
      },
      "source": [
        "epoch = 5\r\n",
        "do_fit('db', slice(9.12E-07,lr))"
      ],
      "execution_count": null,
      "outputs": []
    },
    {
      "cell_type": "markdown",
      "metadata": {
        "id": "T4cpEx0qlQjT"
      },
      "source": [
        "**Line art and Toon portraits**"
      ]
    },
    {
      "cell_type": "markdown",
      "metadata": {
        "id": "cjQl5d7SkkDA"
      },
      "source": [
        "**64px**"
      ]
    },
    {
      "cell_type": "code",
      "metadata": {
        "id": "U8X-fQq6jCsv"
      },
      "source": [
        "src = ImageImageList.from_folder(path_lr1).split_by_rand_pct(0.2, seed=42)\r\n",
        "def get_data(bs,size):\r\n",
        "    data = (src.label_from_func(lambda x: path_hr1/x.name)\r\n",
        "           .transform(get_transforms(max_zoom=2.), size=size, tfm_y=True)\r\n",
        "           .databunch(bs=bs,num_workers = 0).normalize(imagenet_stats, do_y=True))\r\n",
        "\r\n",
        "    data.c = 3\r\n",
        "    return data"
      ],
      "execution_count": null,
      "outputs": []
    },
    {
      "cell_type": "code",
      "metadata": {
        "id": "Rf1uhlhmjavZ"
      },
      "source": [
        "data = get_data(20,64)\r\n",
        "learn_gen.data = data\r\n",
        "learn_gen.freeze()\r\n",
        "gc.collect()\r\n",
        "learn_gen.load('db');"
      ],
      "execution_count": null,
      "outputs": []
    },
    {
      "cell_type": "code",
      "metadata": {
        "id": "6cuxYyIojhwE"
      },
      "source": [
        "data.show_batch(ds_type=DatasetType.Valid, rows=2, figsize=(9,9))"
      ],
      "execution_count": null,
      "outputs": []
    },
    {
      "cell_type": "code",
      "metadata": {
        "id": "xxyidcttjlzo"
      },
      "source": [
        "learn_gen.lr_find()\r\n",
        "learn_gen.recorder.plot(suggestion =True)"
      ],
      "execution_count": null,
      "outputs": []
    },
    {
      "cell_type": "code",
      "metadata": {
        "id": "rkm4LT9Xjnz1"
      },
      "source": [
        "epoch = 5\r\n",
        "do_fit('a2', slice(7.59E-05))"
      ],
      "execution_count": null,
      "outputs": []
    },
    {
      "cell_type": "code",
      "metadata": {
        "id": "uSO-3DG3jqAO"
      },
      "source": [
        "learn_gen.unfreeze()\r\n",
        "learn_gen.lr_find()\r\n",
        "learn_gen.recorder.plot(suggestion =True)"
      ],
      "execution_count": null,
      "outputs": []
    },
    {
      "cell_type": "code",
      "metadata": {
        "id": "OEwfbsWIjuzk"
      },
      "source": [
        "epoch = 5\r\n",
        "do_fit('a3', slice(9.12E-07,1e-5), pct_start=0.3)"
      ],
      "execution_count": null,
      "outputs": []
    },
    {
      "cell_type": "markdown",
      "metadata": {
        "id": "1ivzigFBkuNL"
      },
      "source": [
        "**128px**"
      ]
    },
    {
      "cell_type": "code",
      "metadata": {
        "id": "-QF5i0-cjzvY"
      },
      "source": [
        "data = get_data(8,128)\r\n",
        "learn_gen.data = data\r\n",
        "learn_gen.freeze()\r\n",
        "gc.collect()\r\n",
        "learn_gen.load('a3');"
      ],
      "execution_count": null,
      "outputs": []
    },
    {
      "cell_type": "code",
      "metadata": {
        "id": "Sh82aN9jj1TV"
      },
      "source": [
        "learn_gen.lr_find()\r\n",
        "learn_gen.recorder.plot(suggestion =True)"
      ],
      "execution_count": null,
      "outputs": []
    },
    {
      "cell_type": "code",
      "metadata": {
        "id": "T9-DyqcUj3P7"
      },
      "source": [
        "epoch = 5\r\n",
        "do_fit('db2', slice(9.12E-07))"
      ],
      "execution_count": null,
      "outputs": []
    },
    {
      "cell_type": "code",
      "metadata": {
        "id": "lMXIWNEBj5N1"
      },
      "source": [
        "learn_gen.unfreeze()\r\n",
        "learn_gen.lr_find()\r\n",
        "learn_gen.recorder.plot(suggestion =True)"
      ],
      "execution_count": null,
      "outputs": []
    },
    {
      "cell_type": "code",
      "metadata": {
        "id": "gyJSQPzKkBvk"
      },
      "source": [
        "epoch = 5\r\n",
        "do_fit('db3', slice(6.31E-07,1e-5), pct_start=0.3)"
      ],
      "execution_count": null,
      "outputs": []
    },
    {
      "cell_type": "markdown",
      "metadata": {
        "id": "eMoO09I3kzZt"
      },
      "source": [
        "**192px**"
      ]
    },
    {
      "cell_type": "code",
      "metadata": {
        "id": "YBQdCyFKkD98"
      },
      "source": [
        "data = get_data(5,192)\r\n",
        "learn_gen.data = data\r\n",
        "learn_gen.freeze()\r\n",
        "gc.collect()\r\n",
        "learn_gen.load('db3');"
      ],
      "execution_count": null,
      "outputs": []
    },
    {
      "cell_type": "code",
      "metadata": {
        "id": "baPQXLs9kGBG"
      },
      "source": [
        "learn_gen.lr_find()\r\n",
        "learn_gen.recorder.plot(suggestion =True)"
      ],
      "execution_count": null,
      "outputs": []
    },
    {
      "cell_type": "code",
      "metadata": {
        "id": "WNNpibe1kH9m"
      },
      "source": [
        "epoch =5\r\n",
        "lr = 1.32E-06\r\n",
        "do_fit('db4')"
      ],
      "execution_count": null,
      "outputs": []
    },
    {
      "cell_type": "code",
      "metadata": {
        "id": "Vfd12_-gkJUm"
      },
      "source": [
        "learn_gen.unfreeze()\r\n",
        "learn_gen.lr_find()\r\n",
        "learn_gen.recorder.plot(suggestion =True)"
      ],
      "execution_count": null,
      "outputs": []
    },
    {
      "cell_type": "code",
      "metadata": {
        "id": "6ltQR5QJkMQR"
      },
      "source": [
        "epoch = 5\r\n",
        "do_fit('db5', slice(6.31E-07,1e-5), pct_start=0.3)"
      ],
      "execution_count": null,
      "outputs": []
    },
    {
      "cell_type": "code",
      "metadata": {
        "id": "oYq7OcMFkVTi"
      },
      "source": [
        "learn_gen.show_results(rows=10)"
      ],
      "execution_count": null,
      "outputs": []
    }
  ]
}